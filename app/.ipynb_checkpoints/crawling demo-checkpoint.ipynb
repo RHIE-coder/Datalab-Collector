{
 "cells": [
  {
   "cell_type": "markdown",
   "id": "e8d31114-ab81-4b58-9648-fa00711d4846",
   "metadata": {},
   "source": [
    "# Selenium 셋팅"
   ]
  },
  {
   "cell_type": "code",
   "execution_count": 63,
   "id": "94e895cd-0daa-4789-bad9-4bfa3272b347",
   "metadata": {},
   "outputs": [],
   "source": [
    "from selenium import webdriver\n",
    "from selenium.webdriver.common.keys import Keys"
   ]
  },
  {
   "cell_type": "code",
   "execution_count": 69,
   "id": "22bb3d4e-6fd2-4f0c-a2ea-1ed01fbc097b",
   "metadata": {},
   "outputs": [],
   "source": [
    "url = \"https://datalab.naver.com/shoppingInsight/sCategory.naver\"\n",
    "driver_exe_path = \"./app/chromedriver\"\n",
    "# headers = { \"User-Agent\": \"user-agent: Mozilla/5.0 (Windows NT 10.0; Win64; x64) AppleWebKit/537.36 (KHTML, like Gecko) Chrome/90.0.4430.93 Safari/537.36\" } \n",
    "# data = {\n",
    "#     'cid':50000000,\n",
    "#     'timeUnit':'date',\n",
    "#     'startDate':'2021-05-01',\n",
    "#     'endDate':'2021-06-01',\n",
    "#     'age':None,\n",
    "#     'gender':None,\n",
    "#     'page':1,\n",
    "#     'count':20\n",
    "# }"
   ]
  },
  {
   "cell_type": "code",
   "execution_count": 80,
   "id": "92fbd280-d4a1-4159-ae7a-e023acae5895",
   "metadata": {
    "tags": []
   },
   "outputs": [],
   "source": [
    "# 드라이버 불러오기\n",
    "driver = webdriver.Chrome(executable_path=driver_exe_path)\n",
    "\n",
    "# element가 모두 로드될 때까지 기달려주기\n",
    "driver.implicitly_wait(time_to_wait=5)\n",
    "\n",
    "# 브라우저 열기\n",
    "driver.get(url)"
   ]
  },
  {
   "cell_type": "code",
   "execution_count": 81,
   "id": "9b636eaf-9b28-4699-9197-6c8c979f05ee",
   "metadata": {},
   "outputs": [],
   "source": [
    "# 브라우저 닫기\n",
    "driver.close()\n",
    "\n",
    "# 드라이버 종료\n",
    "driver.quit()"
   ]
  },
  {
   "cell_type": "markdown",
   "id": "fde78248-fadf-4a0e-a199-9436c12bb40b",
   "metadata": {},
   "source": [
    "다음 요소 가져오는 버튼\n",
    "\n",
    "```html\n",
    "<a href=\"#\" class=\"btn_page_next\"><span class=\"blind\">다음페이지</span></a>\n",
    "\n",
    "//*[@id=\"content\"]/div[2]/div/div[2]/div[2]/div/div/div[2]/div/a[2]\n",
    "```"
   ]
  },
  {
   "cell_type": "markdown",
   "id": "7e119064-7c2e-48ae-bf12-7eba8f5b9c1e",
   "metadata": {},
   "source": [
    "가져올 엘리먼트 데이터\n",
    "\n",
    "```html\n",
    "<ul class=\"rank_top1000_list\">\n",
    "    <li><a href=\"/shoppingInsight/sKeyword.naver?keyword=%EC%9B%90%ED%94%BC%EC%8A%A4&amp;cid=50000000\" class=\"link_text\"><span class=\"rank_top1000_num\">1</span>원피스</a></li>\n",
    "    <li><a href=\"/shoppingInsight/sKeyword.naver?keyword=%EC%8D%A8%EC%8A%A4%EB%8D%B0%EC%9D%B4%EC%95%84%EC%9D%BC%EB%9E%9C%EB%93%9C%EC%9B%90%ED%94%BC%EC%8A%A4&amp;cid=50000000\" class=\"link_text\"><span class=\"rank_top1000_num\">2</span>써스데이아일랜드원피스</a></li>\n",
    "    <li><a href=\"/shoppingInsight/sKeyword.naver?keyword=%EB%B0%98%EB%B0%94%EC%A7%80&amp;cid=50000000\" class=\"link_text\"><span class=\"rank_top1000_num\">3</span>반바지</a></li>\n",
    "    <li><a href=\"/shoppingInsight/sKeyword.naver?keyword=%EB%82%A8%EC%9E%90%EB%B0%98%ED%8C%94%ED%8B%B0&amp;cid=50000000\" class=\"link_text\"><span class=\"rank_top1000_num\">4</span>남자반팔티</a></li>\n",
    "    <li><a href=\"/shoppingInsight/sKeyword.naver?keyword=%EB%B8%94%EB%9D%BC%EC%9A%B0%EC%8A%A4&amp;cid=50000000\" class=\"link_text\"><span class=\"rank_top1000_num\">5</span>블라우스</a></li>\n",
    "    <li><a href=\"/shoppingInsight/sKeyword.naver?keyword=%EB%A1%B1%EC%9B%90%ED%94%BC%EC%8A%A4&amp;cid=50000000\" class=\"link_text\"><span class=\"rank_top1000_num\">6</span>롱원피스</a></li>\n",
    "    <li><a href=\"/shoppingInsight/sKeyword.naver?keyword=%EB%82%98%EC%9D%B4%ED%82%A4%EB%B0%94%EB%9E%8C%EB%A7%89%EC%9D%B4&amp;cid=50000000\" class=\"link_text\"><span class=\"rank_top1000_num\">7</span>나이키바람막이</a></li>\n",
    "    <li><a href=\"/shoppingInsight/sKeyword.naver?keyword=%EC%97%AC%EC%84%B1%EB%A6%B0%EB%84%A8%EC%9E%90%EC%BC%93&amp;cid=50000000\" class=\"link_text\"><span class=\"rank_top1000_num\">8</span>여성린넨자켓</a></li>\n",
    "    <li><a href=\"/shoppingInsight/sKeyword.naver?keyword=%EB%A9%94%EC%A2%85%ED%82%A4%EC%B8%A0%EB%84%A4%EB%B0%98%ED%8C%94&amp;cid=50000000\" class=\"link_text\"><span class=\"rank_top1000_num\">9</span>메종키츠네반팔</a></li>\n",
    "    <li><a href=\"/shoppingInsight/sKeyword.naver?keyword=%EB%B0%94%EB%9E%8C%EB%A7%89%EC%9D%B4&amp;cid=50000000\" class=\"link_text\"><span class=\"rank_top1000_num\">10</span>바람막이</a></li>\n",
    "    <li><a href=\"/shoppingInsight/sKeyword.naver?keyword=%EC%A5%AC%EC%8B%9C%EC%A5%AC%EB%94%94&amp;cid=50000000\" class=\"link_text\"><span class=\"rank_top1000_num\">11</span>쥬시쥬디</a></li>\n",
    "    <li><a href=\"/shoppingInsight/sKeyword.naver?keyword=%EC%97%AC%EC%84%B1%EC%A0%90%ED%94%84%EC%88%98%ED%8A%B8&amp;cid=50000000\" class=\"link_text\"><span class=\"rank_top1000_num\">12</span>여성점프수트</a></li>\n",
    "    <li><a href=\"/shoppingInsight/sKeyword.naver?keyword=%EC%97%AC%EB%A6%84%EC%9B%90%ED%94%BC%EC%8A%A4&amp;cid=50000000\" class=\"link_text\"><span class=\"rank_top1000_num\">13</span>여름원피스</a></li>\n",
    "    <li><a href=\"/shoppingInsight/sKeyword.naver?keyword=%EB%82%98%EC%9D%B4%ED%82%A4%EB%B0%98%ED%8C%94%ED%8B%B0&amp;cid=50000000\" class=\"link_text\"><span class=\"rank_top1000_num\">14</span>나이키반팔티</a></li>\n",
    "    <li><a href=\"/shoppingInsight/sKeyword.naver?keyword=%EC%BC%80%EB%84%A4%EC%8A%A4%EB%A0%88%EC%9D%B4%EB%94%94%EC%9B%90%ED%94%BC%EC%8A%A4&amp;cid=50000000\" class=\"link_text\"><span class=\"rank_top1000_num\">15</span>케네스레이디원피스</a></li>\n",
    "    <li><a href=\"/shoppingInsight/sKeyword.naver?keyword=%ED%8F%B4%EB%A1%9C%EB%B0%98%ED%8C%94%ED%8B%B0&amp;cid=50000000\" class=\"link_text\"><span class=\"rank_top1000_num\">16</span>폴로반팔티</a></li>\n",
    "    <li><a href=\"/shoppingInsight/sKeyword.naver?keyword=%EB%9D%BC%EC%BD%94%EC%8A%A4%ED%85%8C%EC%9B%90%ED%94%BC%EC%8A%A4&amp;cid=50000000\" class=\"link_text\"><span class=\"rank_top1000_num\">17</span>라코스테원피스</a></li>\n",
    "    <li><a href=\"/shoppingInsight/sKeyword.naver?keyword=%EB%A1%9C%ED%9D%AC%EC%96%B4%ED%8C%A8%EB%9F%B4&amp;cid=50000000\" class=\"link_text\"><span class=\"rank_top1000_num\">18</span>로희어패럴</a></li>\n",
    "    <li><a href=\"/shoppingInsight/sKeyword.naver?keyword=%EC%A7%80%EC%BB%B7%EC%9B%90%ED%94%BC%EC%8A%A4&amp;cid=50000000\" class=\"link_text\"><span class=\"rank_top1000_num\">19</span>지컷원피스</a></li>\n",
    "    <li><a href=\"/shoppingInsight/sKeyword.naver?keyword=%EB%B7%94%EC%8A%A4%ED%8B%B0%EC%97%90%EC%9B%90%ED%94%BC%EC%8A%A4&amp;cid=50000000\" class=\"link_text\"><span class=\"rank_top1000_num\">20</span>뷔스티에원피스</a></li>\n",
    "</ul>\n",
    "\n",
    "//*[@id=\"content\"]/div[2]/div/div[2]/div[2]/div/div/div[1]/ul/li[1]\n",
    "//*[@id=\"content\"]/div[2]/div/div[2]/div[2]/div/div/div[1]/ul/li[2]\n",
    "//*[@id=\"content\"]/div[2]/div/div[2]/div[2]/div/div/div[1]/ul/li[3]\n",
    "...\n",
    "//*[@id=\"content\"]/div[2]/div/div[2]/div[2]/div/div/div[1]/ul/li[19]\n",
    "//*[@id=\"content\"]/div[2]/div/div[2]/div[2]/div/div/div[1]/ul/li[20]\n",
    "```"
   ]
  },
  {
   "cell_type": "markdown",
   "id": "2551c9be-0609-49c8-a916-b37d0a7d81c7",
   "metadata": {},
   "source": [
    "# 크롤링 테스트"
   ]
  },
  {
   "cell_type": "markdown",
   "id": "8e96835a-7bd2-429f-ae7b-c06129f2010a",
   "metadata": {},
   "source": [
    "## - 인기검색어"
   ]
  },
  {
   "cell_type": "code",
   "execution_count": 94,
   "id": "8d7433aa-b944-42a8-a336-d4887fb5d56a",
   "metadata": {},
   "outputs": [],
   "source": [
    "# 드라이버 불러오기\n",
    "driver = webdriver.Chrome(executable_path=driver_exe_path)\n",
    "\n",
    "# element가 모두 로드될 때까지 기달려주기\n",
    "driver.implicitly_wait(time_to_wait=5)\n",
    "\n",
    "# 브라우저 열기\n",
    "driver.get(url)"
   ]
  },
  {
   "cell_type": "code",
   "execution_count": 95,
   "id": "22d49bb1-f2c8-47a2-9db4-4d6a09d084fc",
   "metadata": {},
   "outputs": [],
   "source": [
    "# 인기검색어 가져오기\n",
    "linkTexts = driver.find_elements_by_class_name('link_text')"
   ]
  },
  {
   "cell_type": "code",
   "execution_count": 96,
   "id": "9d0f8f27-4707-41f2-8336-34e33a28a69c",
   "metadata": {},
   "outputs": [
    {
     "data": {
      "text/plain": [
       "['1\\n원피스',\n",
       " '2\\n써스데이아일랜드원피스',\n",
       " '3\\n반바지',\n",
       " '4\\n남자반팔티',\n",
       " '5\\n블라우스',\n",
       " '6\\n롱원피스',\n",
       " '7\\n나이키바람막이',\n",
       " '8\\n여성린넨자켓',\n",
       " '9\\n메종키츠네반팔',\n",
       " '10\\n바람막이',\n",
       " '11\\n쥬시쥬디',\n",
       " '12\\n여성점프수트',\n",
       " '13\\n여름원피스',\n",
       " '14\\n나이키반팔티',\n",
       " '15\\n케네스레이디원피스',\n",
       " '16\\n폴로반팔티',\n",
       " '17\\n라코스테원피스',\n",
       " '18\\n로희어패럴',\n",
       " '19\\n지컷원피스',\n",
       " '20\\n뷔스티에원피스']"
      ]
     },
     "execution_count": 96,
     "metadata": {},
     "output_type": "execute_result"
    }
   ],
   "source": [
    "[x.text for x in linkTexts]"
   ]
  },
  {
   "cell_type": "code",
   "execution_count": 101,
   "id": "9166c4e3-a40e-4ddb-a500-c524925faa76",
   "metadata": {},
   "outputs": [],
   "source": [
    "# 다음페이지 버튼 클릭\n",
    "next_popular_btn = driver.find_element_by_class_name('btn_page_next')\n",
    "next_popular_btn.click()"
   ]
  },
  {
   "cell_type": "code",
   "execution_count": 100,
   "id": "31441059-367c-4195-8aa5-0af613806ae7",
   "metadata": {},
   "outputs": [
    {
     "data": {
      "text/plain": [
       "['21\\n잠옷',\n",
       " '22\\n하객원피스',\n",
       " '23\\n여름가디건',\n",
       " '24\\n나이키반바지',\n",
       " '25\\n써스데이아일랜드',\n",
       " '26\\n여성여름자켓',\n",
       " '27\\n반팔티',\n",
       " '28\\n강블리gbl남여공용무지반팔7색',\n",
       " '29\\n여성블라우스',\n",
       " '30\\n린넨자켓',\n",
       " '31\\n팬츠',\n",
       " '32\\n나이키반팔',\n",
       " '33\\n시슬리원피스',\n",
       " '34\\n스포츠브라',\n",
       " '35\\n모조에스핀원피스',\n",
       " '36\\n잇미샤원피스',\n",
       " '37\\n여성반팔티셔츠',\n",
       " '38\\n온앤온원피스',\n",
       " '39\\n메종키츠네',\n",
       " '40\\n스톤아일랜드']"
      ]
     },
     "execution_count": 100,
     "metadata": {},
     "output_type": "execute_result"
    }
   ],
   "source": [
    "# 인기 검색어 다시 가져오기\n",
    "linkTexts = driver.find_elements_by_class_name('link_text')\n",
    "[x.text for x in linkTexts]"
   ]
  },
  {
   "cell_type": "markdown",
   "id": "f2349b4d-7c2d-4623-88df-5b20d3070d6e",
   "metadata": {},
   "source": [
    "## - 카테고리 선택 후 조회하기"
   ]
  },
  {
   "cell_type": "code",
   "execution_count": 108,
   "id": "0943b39e-f2c5-4bff-a400-008d5ae237fc",
   "metadata": {},
   "outputs": [],
   "source": [
    "# 분야 선택(1분류)\n",
    "select_category_btn = driver.find_element_by_class_name('select_btn')\n",
    "select_category_btn.click()"
   ]
  },
  {
   "cell_type": "code",
   "execution_count": 127,
   "id": "47390b56-c0fb-44e0-9b60-d9cb8c18b935",
   "metadata": {},
   "outputs": [
    {
     "data": {
      "text/plain": [
       "[<selenium.webdriver.remote.webelement.WebElement (session=\"179d546a37e3994f2d3176d77da6b63c\", element=\"dcc23d7d-1bf9-4eab-ad83-2341e3b0b216\")>,\n",
       " <selenium.webdriver.remote.webelement.WebElement (session=\"179d546a37e3994f2d3176d77da6b63c\", element=\"305016bc-e863-4835-8963-bb6a9aec399e\")>,\n",
       " <selenium.webdriver.remote.webelement.WebElement (session=\"179d546a37e3994f2d3176d77da6b63c\", element=\"4723f119-3027-4c4d-a031-869f4c0df702\")>,\n",
       " <selenium.webdriver.remote.webelement.WebElement (session=\"179d546a37e3994f2d3176d77da6b63c\", element=\"9f163002-9bf7-4f86-a07e-0fcc8618bc06\")>,\n",
       " <selenium.webdriver.remote.webelement.WebElement (session=\"179d546a37e3994f2d3176d77da6b63c\", element=\"aac2f3de-69da-4b13-ad7f-8f2212696f02\")>,\n",
       " <selenium.webdriver.remote.webelement.WebElement (session=\"179d546a37e3994f2d3176d77da6b63c\", element=\"c9f275df-cfc6-4bb5-a05c-7f85c4437c8e\")>,\n",
       " <selenium.webdriver.remote.webelement.WebElement (session=\"179d546a37e3994f2d3176d77da6b63c\", element=\"ba5781db-8a27-42cd-b242-79a1839600aa\")>,\n",
       " <selenium.webdriver.remote.webelement.WebElement (session=\"179d546a37e3994f2d3176d77da6b63c\", element=\"13f98779-2ee0-48d8-a9bb-9584d0bcf755\")>,\n",
       " <selenium.webdriver.remote.webelement.WebElement (session=\"179d546a37e3994f2d3176d77da6b63c\", element=\"764c0c34-7bbf-44f5-9aa4-49958ca8b3a5\")>,\n",
       " <selenium.webdriver.remote.webelement.WebElement (session=\"179d546a37e3994f2d3176d77da6b63c\", element=\"b754dd65-7329-4fc9-88f1-4cd83ddde00b\")>,\n",
       " <selenium.webdriver.remote.webelement.WebElement (session=\"179d546a37e3994f2d3176d77da6b63c\", element=\"538b7b19-93df-497e-b487-d3ae8b71f5c1\")>]"
      ]
     },
     "execution_count": 127,
     "metadata": {},
     "output_type": "execute_result"
    }
   ],
   "source": [
    "# 모든 카테고리 가져오기\n",
    "categories = [driver.find_element_by_xpath('//*[@id=\"content\"]/div[2]/div/div[1]/div/div/div[1]/div/div[1]/ul/li[{0}]'.format(num)) for num in range(1, 12)]\n",
    "categories"
   ]
  },
  {
   "cell_type": "code",
   "execution_count": 128,
   "id": "3275293b-cd7c-4976-b42e-56806ad5b6e0",
   "metadata": {},
   "outputs": [],
   "source": [
    "categories[3].click() #디지털/가전\n",
    "select_category_btn = driver.find_element_by_class_name('btn_submit')\n",
    "select_category_btn.click()"
   ]
  },
  {
   "cell_type": "markdown",
   "id": "f5fbdcea-baaf-44e0-9c12-77d1e4df6812",
   "metadata": {},
   "source": [
    "# 쇼핑인사이트에 특화된 크롤러 모듈 만들기"
   ]
  },
  {
   "cell_type": "code",
   "execution_count": null,
   "id": "fdfee075-9144-4997-93ed-753fcd9d413b",
   "metadata": {},
   "outputs": [],
   "source": []
  }
 ],
 "metadata": {
  "kernelspec": {
   "display_name": "Python 3",
   "language": "python",
   "name": "python3"
  },
  "language_info": {
   "codemirror_mode": {
    "name": "ipython",
    "version": 3
   },
   "file_extension": ".py",
   "mimetype": "text/x-python",
   "name": "python",
   "nbconvert_exporter": "python",
   "pygments_lexer": "ipython3",
   "version": "3.9.4"
  }
 },
 "nbformat": 4,
 "nbformat_minor": 5
}
